{
 "cells": [
  {
   "cell_type": "markdown",
   "metadata": {},
   "source": [
    "<h2>Title of the project 3: “HR Analytics\"</h2>\n",
    "<hr>\n",
    " \n",
    "*Tasks to perform:*\n",
    "- Data Cleaning.\n",
    "- Deleting redundant columns.\n",
    "- Renaming the columns.\n",
    "- Dropping duplicates.\n",
    "- Cleaning individual columns.\n",
    "- Remove the NaN values from the dataset\n",
    "- Check for some more Transformations\n",
    "<br>\n",
    "<br>\n",
    "*Data Visualization:*\n",
    "* Plot a correlation map for all numeric variables\n",
    "* Overtime\n",
    "* Marital Status\n",
    "* Job Role\n",
    "* Gender\n",
    "* Education Field\n",
    "* Department\n",
    "* Business Travel\n",
    "* Relation between Overtime and Age\n",
    "* Total Working Years\n",
    "* Education Level\n",
    "* Number of Companies Worked\n",
    "* Distance from Home\n"
   ]
  }
 ],
 "metadata": {
  "language_info": {
   "name": "python"
  }
 },
 "nbformat": 4,
 "nbformat_minor": 2
}
